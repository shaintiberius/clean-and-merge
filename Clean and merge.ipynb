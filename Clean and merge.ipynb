{
 "cells": [
  {
   "cell_type": "code",
   "execution_count": 1,
   "id": "606c4088",
   "metadata": {},
   "outputs": [
    {
     "data": {
      "text/html": [
       "<div>\n",
       "<style scoped>\n",
       "    .dataframe tbody tr th:only-of-type {\n",
       "        vertical-align: middle;\n",
       "    }\n",
       "\n",
       "    .dataframe tbody tr th {\n",
       "        vertical-align: top;\n",
       "    }\n",
       "\n",
       "    .dataframe thead th {\n",
       "        text-align: right;\n",
       "    }\n",
       "</style>\n",
       "<table border=\"1\" class=\"dataframe\">\n",
       "  <thead>\n",
       "    <tr style=\"text-align: right;\">\n",
       "      <th></th>\n",
       "      <th>Unnamed: 0</th>\n",
       "      <th>age</th>\n",
       "      <th>awesome_score</th>\n",
       "      <th>num_hairs</th>\n",
       "      <th>name</th>\n",
       "    </tr>\n",
       "  </thead>\n",
       "  <tbody>\n",
       "    <tr>\n",
       "      <th>0</th>\n",
       "      <td>0</td>\n",
       "      <td>86</td>\n",
       "      <td>0.696960</td>\n",
       "      <td>131717</td>\n",
       "      <td>Marcelle</td>\n",
       "    </tr>\n",
       "    <tr>\n",
       "      <th>1</th>\n",
       "      <td>1</td>\n",
       "      <td>86</td>\n",
       "      <td>0.112051</td>\n",
       "      <td>185038</td>\n",
       "      <td>Darlene</td>\n",
       "    </tr>\n",
       "    <tr>\n",
       "      <th>2</th>\n",
       "      <td>2</td>\n",
       "      <td>82</td>\n",
       "      <td>NaN</td>\n",
       "      <td>173644</td>\n",
       "      <td>Matilde</td>\n",
       "    </tr>\n",
       "    <tr>\n",
       "      <th>3</th>\n",
       "      <td>3</td>\n",
       "      <td>88</td>\n",
       "      <td>1.062127</td>\n",
       "      <td>161278</td>\n",
       "      <td>Marchelle</td>\n",
       "    </tr>\n",
       "    <tr>\n",
       "      <th>4</th>\n",
       "      <td>4</td>\n",
       "      <td>81</td>\n",
       "      <td>1.414369</td>\n",
       "      <td>84891</td>\n",
       "      <td>Jessy</td>\n",
       "    </tr>\n",
       "  </tbody>\n",
       "</table>\n",
       "</div>"
      ],
      "text/plain": [
       "   Unnamed: 0  age  awesome_score  num_hairs       name\n",
       "0           0   86       0.696960     131717   Marcelle\n",
       "1           1   86       0.112051     185038    Darlene\n",
       "2           2   82            NaN     173644    Matilde\n",
       "3           3   88       1.062127     161278  Marchelle\n",
       "4           4   81       1.414369      84891      Jessy"
      ]
     },
     "execution_count": 1,
     "metadata": {},
     "output_type": "execute_result"
    }
   ],
   "source": [
    "\n",
    "import pandas as pd\n",
    "df = pd.read_csv('exercise_data.csv')\n",
    "df.head()"
   ]
  },
  {
   "cell_type": "code",
   "execution_count": 2,
   "id": "06189dd8",
   "metadata": {},
   "outputs": [
    {
     "data": {
      "text/html": [
       "<div>\n",
       "<style scoped>\n",
       "    .dataframe tbody tr th:only-of-type {\n",
       "        vertical-align: middle;\n",
       "    }\n",
       "\n",
       "    .dataframe tbody tr th {\n",
       "        vertical-align: top;\n",
       "    }\n",
       "\n",
       "    .dataframe thead th {\n",
       "        text-align: right;\n",
       "    }\n",
       "</style>\n",
       "<table border=\"1\" class=\"dataframe\">\n",
       "  <thead>\n",
       "    <tr style=\"text-align: right;\">\n",
       "      <th></th>\n",
       "      <th>Unnamed: 0</th>\n",
       "      <th>age</th>\n",
       "      <th>awesome_score</th>\n",
       "      <th>num_hairs</th>\n",
       "    </tr>\n",
       "  </thead>\n",
       "  <tbody>\n",
       "    <tr>\n",
       "      <th>count</th>\n",
       "      <td>10000.00000</td>\n",
       "      <td>10000.000000</td>\n",
       "      <td>9022.000000</td>\n",
       "      <td>10000.000000</td>\n",
       "    </tr>\n",
       "    <tr>\n",
       "      <th>mean</th>\n",
       "      <td>4999.50000</td>\n",
       "      <td>59.153600</td>\n",
       "      <td>inf</td>\n",
       "      <td>112643.095600</td>\n",
       "    </tr>\n",
       "    <tr>\n",
       "      <th>std</th>\n",
       "      <td>2886.89568</td>\n",
       "      <td>24.023541</td>\n",
       "      <td>NaN</td>\n",
       "      <td>55812.533345</td>\n",
       "    </tr>\n",
       "    <tr>\n",
       "      <th>min</th>\n",
       "      <td>0.00000</td>\n",
       "      <td>18.000000</td>\n",
       "      <td>-1.999581</td>\n",
       "      <td>-50.000000</td>\n",
       "    </tr>\n",
       "    <tr>\n",
       "      <th>25%</th>\n",
       "      <td>2499.75000</td>\n",
       "      <td>38.000000</td>\n",
       "      <td>-0.964891</td>\n",
       "      <td>75664.750000</td>\n",
       "    </tr>\n",
       "    <tr>\n",
       "      <th>50%</th>\n",
       "      <td>4999.50000</td>\n",
       "      <td>60.000000</td>\n",
       "      <td>0.035636</td>\n",
       "      <td>117213.000000</td>\n",
       "    </tr>\n",
       "    <tr>\n",
       "      <th>75%</th>\n",
       "      <td>7499.25000</td>\n",
       "      <td>80.000000</td>\n",
       "      <td>1.016753</td>\n",
       "      <td>159127.250000</td>\n",
       "    </tr>\n",
       "    <tr>\n",
       "      <th>max</th>\n",
       "      <td>9999.00000</td>\n",
       "      <td>100.000000</td>\n",
       "      <td>inf</td>\n",
       "      <td>199998.000000</td>\n",
       "    </tr>\n",
       "  </tbody>\n",
       "</table>\n",
       "</div>"
      ],
      "text/plain": [
       "        Unnamed: 0           age  awesome_score      num_hairs\n",
       "count  10000.00000  10000.000000    9022.000000   10000.000000\n",
       "mean    4999.50000     59.153600            inf  112643.095600\n",
       "std     2886.89568     24.023541            NaN   55812.533345\n",
       "min        0.00000     18.000000      -1.999581     -50.000000\n",
       "25%     2499.75000     38.000000      -0.964891   75664.750000\n",
       "50%     4999.50000     60.000000       0.035636  117213.000000\n",
       "75%     7499.25000     80.000000       1.016753  159127.250000\n",
       "max     9999.00000    100.000000            inf  199998.000000"
      ]
     },
     "execution_count": 2,
     "metadata": {},
     "output_type": "execute_result"
    }
   ],
   "source": [
    "df.describe() #describes only numerical data "
   ]
  },
  {
   "cell_type": "code",
   "execution_count": 3,
   "id": "15179e4f",
   "metadata": {},
   "outputs": [
    {
     "name": "stdout",
     "output_type": "stream",
     "text": [
      "<class 'pandas.core.frame.DataFrame'>\n",
      "RangeIndex: 10000 entries, 0 to 9999\n",
      "Data columns (total 5 columns):\n",
      " #   Column         Non-Null Count  Dtype  \n",
      "---  ------         --------------  -----  \n",
      " 0   Unnamed: 0     10000 non-null  int64  \n",
      " 1   age            10000 non-null  int64  \n",
      " 2   awesome_score  9022 non-null   float64\n",
      " 3   num_hairs      10000 non-null  int64  \n",
      " 4   name           9998 non-null   object \n",
      "dtypes: float64(1), int64(3), object(1)\n",
      "memory usage: 390.8+ KB\n"
     ]
    }
   ],
   "source": [
    "df.info() #describes all data "
   ]
  },
  {
   "cell_type": "code",
   "execution_count": 4,
   "id": "268ee39e",
   "metadata": {},
   "outputs": [],
   "source": [
    "df['age'].unique()\n",
    "df['age'] = pd.to_numeric(df['age'], errors = 'coerce') "
   ]
  },
  {
   "cell_type": "code",
   "execution_count": 5,
   "id": "64b9709d",
   "metadata": {},
   "outputs": [
    {
     "data": {
      "text/plain": [
       "array([ 86,  82,  88,  81,  44,  49,  74,  77,  28,  37,  91,  53,  95,\n",
       "        51,  90,  31,  73,  42,  27,  46,  84,  70,  25,  55,  79,  47,\n",
       "        57,  21,  34,  48,  87,  24,  78,  99, 100,  52,  45,  35,  80,\n",
       "        26,  85,  76,  67,  63,  40,  65,  22,  33,  39,  20,  60,  36,\n",
       "        23,  61,  59,  69,  29,  97,  56,  32,  94,  58,  54,  68,  75,\n",
       "        93,  30,  50,  71,  83,  66,  43,  89,  92,  62,  98,  64,  72,\n",
       "        41,  96,  19,  18,  38])"
      ]
     },
     "execution_count": 5,
     "metadata": {},
     "output_type": "execute_result"
    }
   ],
   "source": [
    "df['age'].unique() #we need to probably do this a different way\n"
   ]
  },
  {
   "cell_type": "code",
   "execution_count": 7,
   "id": "8b0e2d64",
   "metadata": {},
   "outputs": [
    {
     "data": {
      "text/plain": [
       "count    9022.000000\n",
       "mean             inf\n",
       "std              NaN\n",
       "min        -1.999581\n",
       "25%        -0.964891\n",
       "50%         0.035636\n",
       "75%         1.016753\n",
       "max              inf\n",
       "Name: awesome_score, dtype: float64"
      ]
     },
     "execution_count": 7,
     "metadata": {},
     "output_type": "execute_result"
    }
   ],
   "source": [
    "df['awesome_score'].describe()"
   ]
  },
  {
   "cell_type": "code",
   "execution_count": 8,
   "id": "e0279c58",
   "metadata": {},
   "outputs": [
    {
     "data": {
      "text/html": [
       "<div>\n",
       "<style scoped>\n",
       "    .dataframe tbody tr th:only-of-type {\n",
       "        vertical-align: middle;\n",
       "    }\n",
       "\n",
       "    .dataframe tbody tr th {\n",
       "        vertical-align: top;\n",
       "    }\n",
       "\n",
       "    .dataframe thead th {\n",
       "        text-align: right;\n",
       "    }\n",
       "</style>\n",
       "<table border=\"1\" class=\"dataframe\">\n",
       "  <thead>\n",
       "    <tr style=\"text-align: right;\">\n",
       "      <th></th>\n",
       "      <th>Unnamed: 0</th>\n",
       "      <th>age</th>\n",
       "      <th>awesome_score</th>\n",
       "      <th>num_hairs</th>\n",
       "    </tr>\n",
       "  </thead>\n",
       "  <tbody>\n",
       "    <tr>\n",
       "      <th>count</th>\n",
       "      <td>10000.00000</td>\n",
       "      <td>10000.000000</td>\n",
       "      <td>9012.000000</td>\n",
       "      <td>10000.000000</td>\n",
       "    </tr>\n",
       "    <tr>\n",
       "      <th>mean</th>\n",
       "      <td>4999.50000</td>\n",
       "      <td>59.153600</td>\n",
       "      <td>0.020502</td>\n",
       "      <td>112643.095600</td>\n",
       "    </tr>\n",
       "    <tr>\n",
       "      <th>std</th>\n",
       "      <td>2886.89568</td>\n",
       "      <td>24.023541</td>\n",
       "      <td>1.149271</td>\n",
       "      <td>55812.533345</td>\n",
       "    </tr>\n",
       "    <tr>\n",
       "      <th>min</th>\n",
       "      <td>0.00000</td>\n",
       "      <td>18.000000</td>\n",
       "      <td>-1.999581</td>\n",
       "      <td>-50.000000</td>\n",
       "    </tr>\n",
       "    <tr>\n",
       "      <th>25%</th>\n",
       "      <td>2499.75000</td>\n",
       "      <td>38.000000</td>\n",
       "      <td>-0.965704</td>\n",
       "      <td>75664.750000</td>\n",
       "    </tr>\n",
       "    <tr>\n",
       "      <th>50%</th>\n",
       "      <td>4999.50000</td>\n",
       "      <td>60.000000</td>\n",
       "      <td>0.033622</td>\n",
       "      <td>117213.000000</td>\n",
       "    </tr>\n",
       "    <tr>\n",
       "      <th>75%</th>\n",
       "      <td>7499.25000</td>\n",
       "      <td>80.000000</td>\n",
       "      <td>1.014523</td>\n",
       "      <td>159127.250000</td>\n",
       "    </tr>\n",
       "    <tr>\n",
       "      <th>max</th>\n",
       "      <td>9999.00000</td>\n",
       "      <td>100.000000</td>\n",
       "      <td>1.999713</td>\n",
       "      <td>199998.000000</td>\n",
       "    </tr>\n",
       "  </tbody>\n",
       "</table>\n",
       "</div>"
      ],
      "text/plain": [
       "        Unnamed: 0           age  awesome_score      num_hairs\n",
       "count  10000.00000  10000.000000    9012.000000   10000.000000\n",
       "mean    4999.50000     59.153600       0.020502  112643.095600\n",
       "std     2886.89568     24.023541       1.149271   55812.533345\n",
       "min        0.00000     18.000000      -1.999581     -50.000000\n",
       "25%     2499.75000     38.000000      -0.965704   75664.750000\n",
       "50%     4999.50000     60.000000       0.033622  117213.000000\n",
       "75%     7499.25000     80.000000       1.014523  159127.250000\n",
       "max     9999.00000    100.000000       1.999713  199998.000000"
      ]
     },
     "execution_count": 8,
     "metadata": {},
     "output_type": "execute_result"
    }
   ],
   "source": [
    "import numpy as np\n",
    "df['awesome_score'].replace([np.inf, -np.inf], np.nan, inplace = True) #replace infinite values\n",
    "df.describe()"
   ]
  },
  {
   "cell_type": "code",
   "execution_count": 9,
   "id": "881d0d45",
   "metadata": {},
   "outputs": [
    {
     "data": {
      "text/plain": [
       "array(['Marcelle', 'Darlene', 'Matilde', ..., 'Bette', 'Gaylene',\n",
       "       'Vivian'], dtype=object)"
      ]
     },
     "execution_count": 9,
     "metadata": {},
     "output_type": "execute_result"
    }
   ],
   "source": [
    "df['name'].unique()"
   ]
  },
  {
   "cell_type": "code",
   "execution_count": 10,
   "id": "33c02328",
   "metadata": {},
   "outputs": [
    {
     "data": {
      "text/plain": [
       "array(['Marcelle', 'Darlene', 'Matilde', ..., 'Bette', 'Gaylene',\n",
       "       'Vivian'], dtype=object)"
      ]
     },
     "execution_count": 10,
     "metadata": {},
     "output_type": "execute_result"
    }
   ],
   "source": [
    "df['name'].replace('99999', np.nan, inplace = True)\n",
    "df['name'].unique()"
   ]
  },
  {
   "cell_type": "code",
   "execution_count": 12,
   "id": "a1efd7b3",
   "metadata": {},
   "outputs": [
    {
     "data": {
      "text/html": [
       "<div>\n",
       "<style scoped>\n",
       "    .dataframe tbody tr th:only-of-type {\n",
       "        vertical-align: middle;\n",
       "    }\n",
       "\n",
       "    .dataframe tbody tr th {\n",
       "        vertical-align: top;\n",
       "    }\n",
       "\n",
       "    .dataframe thead th {\n",
       "        text-align: right;\n",
       "    }\n",
       "</style>\n",
       "<table border=\"1\" class=\"dataframe\">\n",
       "  <thead>\n",
       "    <tr style=\"text-align: right;\">\n",
       "      <th></th>\n",
       "      <th>Unnamed: 0_x</th>\n",
       "      <th>age</th>\n",
       "      <th>awesome_score</th>\n",
       "      <th>num_hairs</th>\n",
       "      <th>name</th>\n",
       "      <th>Unnamed: 0_y</th>\n",
       "      <th>num_apples</th>\n",
       "    </tr>\n",
       "  </thead>\n",
       "  <tbody>\n",
       "    <tr>\n",
       "      <th>0</th>\n",
       "      <td>22</td>\n",
       "      <td>86</td>\n",
       "      <td>-0.672030</td>\n",
       "      <td>119386</td>\n",
       "      <td>Nadia</td>\n",
       "      <td>168</td>\n",
       "      <td>297</td>\n",
       "    </tr>\n",
       "    <tr>\n",
       "      <th>1</th>\n",
       "      <td>3469</td>\n",
       "      <td>75</td>\n",
       "      <td>0.700926</td>\n",
       "      <td>-50</td>\n",
       "      <td>Nadia</td>\n",
       "      <td>168</td>\n",
       "      <td>297</td>\n",
       "    </tr>\n",
       "    <tr>\n",
       "      <th>2</th>\n",
       "      <td>6752</td>\n",
       "      <td>49</td>\n",
       "      <td>1.625382</td>\n",
       "      <td>-50</td>\n",
       "      <td>Nadia</td>\n",
       "      <td>168</td>\n",
       "      <td>297</td>\n",
       "    </tr>\n",
       "    <tr>\n",
       "      <th>3</th>\n",
       "      <td>9721</td>\n",
       "      <td>23</td>\n",
       "      <td>-0.169875</td>\n",
       "      <td>72983</td>\n",
       "      <td>Nadia</td>\n",
       "      <td>168</td>\n",
       "      <td>297</td>\n",
       "    </tr>\n",
       "    <tr>\n",
       "      <th>4</th>\n",
       "      <td>129</td>\n",
       "      <td>58</td>\n",
       "      <td>1.000758</td>\n",
       "      <td>78137</td>\n",
       "      <td>Juline</td>\n",
       "      <td>3</td>\n",
       "      <td>121</td>\n",
       "    </tr>\n",
       "  </tbody>\n",
       "</table>\n",
       "</div>"
      ],
      "text/plain": [
       "   Unnamed: 0_x  age  awesome_score  num_hairs    name  Unnamed: 0_y  \\\n",
       "0            22   86      -0.672030     119386   Nadia           168   \n",
       "1          3469   75       0.700926        -50   Nadia           168   \n",
       "2          6752   49       1.625382        -50   Nadia           168   \n",
       "3          9721   23      -0.169875      72983   Nadia           168   \n",
       "4           129   58       1.000758      78137  Juline             3   \n",
       "\n",
       "   num_apples  \n",
       "0         297  \n",
       "1         297  \n",
       "2         297  \n",
       "3         297  \n",
       "4         121  "
      ]
     },
     "execution_count": 12,
     "metadata": {},
     "output_type": "execute_result"
    }
   ],
   "source": [
    "\n",
    "merger_df = pd.read_csv('merge_exercise.csv')\n",
    "#print(merger_df.shape)\n",
    "new_df = df.merge(merger_df, on = 'name') #on value is column that you merge on\n",
    "new_df.head()"
   ]
  }
 ],
 "metadata": {
  "kernelspec": {
   "display_name": "Python 3 (ipykernel)",
   "language": "python",
   "name": "python3"
  },
  "language_info": {
   "codemirror_mode": {
    "name": "ipython",
    "version": 3
   },
   "file_extension": ".py",
   "mimetype": "text/x-python",
   "name": "python",
   "nbconvert_exporter": "python",
   "pygments_lexer": "ipython3",
   "version": "3.9.12"
  }
 },
 "nbformat": 4,
 "nbformat_minor": 5
}
